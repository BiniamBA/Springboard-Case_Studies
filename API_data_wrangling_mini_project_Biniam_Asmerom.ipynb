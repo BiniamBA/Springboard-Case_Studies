{
 "cells": [
  {
   "cell_type": "markdown",
   "metadata": {},
   "source": [
    "This exercise will require you to pull some data from the Qunadl API. Qaundl is currently the most widely used aggregator of financial market data."
   ]
  },
  {
   "cell_type": "markdown",
   "metadata": {},
   "source": [
    "As a first step, you will need to register a free account on the http://www.quandl.com website."
   ]
  },
  {
   "cell_type": "markdown",
   "metadata": {},
   "source": [
    "After you register, you will be provided with a unique API key, that you should store:"
   ]
  },
  {
   "cell_type": "code",
   "execution_count": 1,
   "metadata": {
    "jupyter": {
     "outputs_hidden": true
    }
   },
   "outputs": [],
   "source": [
    "# Store the API key as a string - according to PEP8, constants are always named in all upper case\n",
    "API_KEY = ''"
   ]
  },
  {
   "cell_type": "markdown",
   "metadata": {},
   "source": [
    "Qaundl has a large number of data sources, but, unfortunately, most of them require a Premium subscription. Still, there are also a good number of free datasets."
   ]
  },
  {
   "cell_type": "markdown",
   "metadata": {},
   "source": [
    "For this mini project, we will focus on equities data from the Frankfurt Stock Exhange (FSE), which is available for free. We'll try and analyze the stock prices of a company called Carl Zeiss Meditec, which manufactures tools for eye examinations, as well as medical lasers for laser eye surgery: https://www.zeiss.com/meditec/int/home.html. The company is listed under the stock ticker AFX_X."
   ]
  },
  {
   "cell_type": "markdown",
   "metadata": {},
   "source": [
    "You can find the detailed Quandl API instructions here: https://docs.quandl.com/docs/time-series"
   ]
  },
  {
   "cell_type": "markdown",
   "metadata": {},
   "source": [
    "While there is a dedicated Python package for connecting to the Quandl API, we would prefer that you use the *requests* package, which can be easily downloaded using *pip* or *conda*. You can find the documentation for the package here: http://docs.python-requests.org/en/master/ "
   ]
  },
  {
   "cell_type": "markdown",
   "metadata": {},
   "source": [
    "Finally, apart from the *requests* package, you are encouraged to not use any third party Python packages, such as *pandas*, and instead focus on what's available in the Python Standard Library (the *collections* module might come in handy: https://pymotw.com/3/collections/ ).\n",
    "Also, since you won't have access to DataFrames, you are encouraged to us Python's native data structures - preferably dictionaries, though some questions can also be answered using lists.\n",
    "You can read more on these data structures here: https://docs.python.org/3/tutorial/datastructures.html"
   ]
  },
  {
   "cell_type": "markdown",
   "metadata": {},
   "source": [
    "Keep in mind that the JSON responses you will be getting from the API map almost one-to-one to Python's dictionaries. Unfortunately, they can be very nested, so make sure you read up on indexing dictionaries in the documentation provided above."
   ]
  },
  {
   "cell_type": "code",
   "execution_count": 2,
   "metadata": {
    "jupyter": {
     "outputs_hidden": true
    }
   },
   "outputs": [],
   "source": [
    "# First, import the relevant modules\n",
    "import requests\n",
    "import json\n",
    "import collections\n",
    "import numpy as np"
   ]
  },
  {
   "cell_type": "markdown",
   "metadata": {},
   "source": [
    "Note: API's can change a bit with each version, for this exercise it is reccomended to use the \"V3\" quandl api at `https://www.quandl.com/api/v3/`"
   ]
  },
  {
   "cell_type": "code",
   "execution_count": 3,
   "metadata": {
    "jupyter": {
     "outputs_hidden": true
    }
   },
   "outputs": [],
   "source": [
    "# Now, call the Quandl API and pull out a small sample of the data (only one day) to get a glimpse\n",
    "# into the JSON structure that will be returned\n",
    "r = requests.get('https://www.quandl.com/api/v3/datasets/FSE/AFX_X.json?start_date=2017-01-01&end_date=2017-01-03&api_key=' + API_KEY)"
   ]
  },
  {
   "cell_type": "code",
   "execution_count": 4,
   "metadata": {
    "jupyter": {
     "outputs_hidden": true
    }
   },
   "outputs": [
    {
     "name": "stdout",
     "output_type": "stream",
     "text": [
      "dataset: {'id': 10095370, 'dataset_code': 'AFX_X', 'database_code': 'FSE', 'name': 'Carl Zeiss Meditec (AFX_X)', 'description': 'Stock Prices for Carl Zeiss Meditec (2020-11-02) from the Frankfurt Stock Exchange.<br><br>Trading System: Xetra<br><br>ISIN: DE0005313704', 'refreshed_at': '2020-12-01T14:48:09.907Z', 'newest_available_date': '2020-12-01', 'oldest_available_date': '2000-06-07', 'column_names': ['Date', 'Open', 'High', 'Low', 'Close', 'Change', 'Traded Volume', 'Turnover', 'Last Price of the Day', 'Daily Traded Units', 'Daily Turnover'], 'frequency': 'daily', 'type': 'Time Series', 'premium': False, 'limit': None, 'transform': None, 'column_index': None, 'start_date': '2017-01-01', 'end_date': '2017-01-03', 'data': [['2017-01-03', 35.9, 35.93, 35.34, 35.48, None, 70618.0, 2515473.0, None, None, None], ['2017-01-02', 34.99, 35.94, 34.99, 35.8, None, 44700.0, 1590561.0, None, None, None]], 'collapse': None, 'order': None, 'database_id': 6129}\n"
     ]
    }
   ],
   "source": [
    "# Inspect the JSON structure of the object you created, and take note of how nested it is,\n",
    "# as well as the overall structure\n",
    "AFX_OneDay = r.json()\n",
    "for key, value in AFX_OneDay.items():\n",
    "    print(key + ':', value)"
   ]
  },
  {
   "cell_type": "markdown",
   "metadata": {},
   "source": [
    "The json file downloaded from Quandl API is a nested dictionary with the primary key \"dataset\" and a value, which in itself is a dictionary. The nested dictionary conatians several keys and value pairs. The two key values we are interset are the \"column_names\" and \"data\" keys."
   ]
  },
  {
   "cell_type": "code",
   "execution_count": 5,
   "metadata": {},
   "outputs": [
    {
     "name": "stdout",
     "output_type": "stream",
     "text": [
      "dict_keys(['id', 'dataset_code', 'database_code', 'name', 'description', 'refreshed_at', 'newest_available_date', 'oldest_available_date', 'column_names', 'frequency', 'type', 'premium', 'limit', 'transform', 'column_index', 'start_date', 'end_date', 'data', 'collapse', 'order', 'database_id'])\n"
     ]
    }
   ],
   "source": [
    "print(value.keys())"
   ]
  },
  {
   "cell_type": "code",
   "execution_count": 6,
   "metadata": {},
   "outputs": [],
   "source": [
    "#Q.1 Now, call the Quandl API and pull out the 2017 whole year value for AFX_X\n",
    "req = requests.get('https://www.quandl.com/api/v3/datasets/FSE/AFX_X.json?start_date=2017-01-01&end_date=2017-12-31&api_key=' + API_KEY)"
   ]
  },
  {
   "cell_type": "code",
   "execution_count": 7,
   "metadata": {},
   "outputs": [
    {
     "data": {
      "text/plain": [
       "dict"
      ]
     },
     "execution_count": 7,
     "metadata": {},
     "output_type": "execute_result"
    }
   ],
   "source": [
    "#Q.2 Convert the requested json file into a dictionary\n",
    "AFX_2017 = req.json()\n",
    "type(AFX_2017)"
   ]
  },
  {
   "cell_type": "code",
   "execution_count": 8,
   "metadata": {},
   "outputs": [],
   "source": [
    "#[key_2017, value_2017 for key_2017, value_2017 in AFX_2017.items()]\n",
    "for key_2017, value_2017 in AFX_2017.items():\n",
    "    pass\n",
    "    #print(key_2017 + ':', value_2017)"
   ]
  },
  {
   "cell_type": "code",
   "execution_count": 9,
   "metadata": {},
   "outputs": [
    {
     "name": "stdout",
     "output_type": "stream",
     "text": [
      "['Date', 'Open', 'High', 'Low', 'Close', 'Change', 'Traded Volume', 'Turnover', 'Last Price of the Day', 'Daily Traded Units', 'Daily Turnover']\n"
     ]
    }
   ],
   "source": [
    "column_names = value_2017['column_names']\n",
    "print(column_names )"
   ]
  },
  {
   "cell_type": "code",
   "execution_count": 10,
   "metadata": {},
   "outputs": [],
   "source": [
    "data = value_2017['data']\n",
    "#print(data)"
   ]
  },
  {
   "cell_type": "markdown",
   "metadata": {},
   "source": [
    "From the above inspection we know that the two important keys are the column_names and data keys. Now we will form a new dictionary that pairs the name of each items in column_names key to the items in the data key"
   ]
  },
  {
   "cell_type": "code",
   "execution_count": 11,
   "metadata": {},
   "outputs": [],
   "source": [
    "# Create a new dictionary that only contains the data and the column names \n",
    "AFX_2017_select = collections.defaultdict(list)\n",
    "for i in range(len(data)):\n",
    "    for key, value in zip(column_names,data[i]):\n",
    "        if key not in AFX_2017_select:\n",
    "            AFX_2017_select[key] = [value] # the square bracket tells the value will be a list instead of just a string\n",
    "        else:\n",
    "            AFX_2017_select[key].append(value)"
   ]
  },
  {
   "cell_type": "code",
   "execution_count": 12,
   "metadata": {},
   "outputs": [
    {
     "name": "stdout",
     "output_type": "stream",
     "text": [
      "The highest and lowest opening price for AFX in 2017 are $53.11 and $34.0 respectively\n"
     ]
    }
   ],
   "source": [
    "#Q.3 Calculate what the highest and lowest opening prices were for the stock in this period.\n",
    "AFX_Opening = AFX_2017_select['Open']\n",
    "AFX_Opening = [i if i is not None else np.NaN for i in AFX_Opening]\n",
    "AFX_Lowest_Opening = min(AFX_Opening)\n",
    "AFX_Highest_Opening = max(AFX_Opening)\n",
    "print('The highest and lowest opening price for AFX in 2017 are ${} and ${} respectively'.format(AFX_Highest_Opening,AFX_Lowest_Opening))"
   ]
  },
  {
   "cell_type": "code",
   "execution_count": 13,
   "metadata": {},
   "outputs": [
    {
     "name": "stdout",
     "output_type": "stream",
     "text": [
      "The largest price change in a single day is $2.81\n"
     ]
    }
   ],
   "source": [
    "#Q.4 What was the largest change in any one day (based on High and Low price)?\n",
    "AFX_High = AFX_2017_select['High']\n",
    "AFX_High = [i if i is not None else np.NaN for i in AFX_High]\n",
    "\n",
    "AFX_Low = AFX_2017_select['Low']\n",
    "AFX_Low = [i if i is not None else np.NaN for i in AFX_Low]\n",
    "\n",
    "AFX_Daily_Change = np.array(AFX_High) - np.array(AFX_Low)\n",
    "print('The largest price change in a single day is ${:.2f}'.format(max(AFX_Daily_Change)))"
   ]
  },
  {
   "cell_type": "code",
   "execution_count": 14,
   "metadata": {},
   "outputs": [
    {
     "name": "stdout",
     "output_type": "stream",
     "text": [
      "The largest price change between any two days is $2.56\n",
      "\r\n",
      "The largest price change between any two days is $2.56\n"
     ]
    }
   ],
   "source": [
    "#Q.5 What was the largest change between any two days (based on Closing Price)?\n",
    "AFX_2017_select['Diff_2Day_prior'] = []\n",
    "num = len(AFX_2017_select['Close'])\n",
    "\n",
    "for i in range(num):\n",
    "    try:\n",
    "        AFX_2017_select['Diff_2Day_prior'].append(round(AFX_2017_select['Close'][i+1] - AFX_2017_select['Close'][i],2))\n",
    "    except IndexError:\n",
    "        AFX_2017_select['Diff_2Day_prior'].append(round(AFX_2017_select['Close'][i-1] - AFX_2017_select['Close'][i],2))\n",
    "        \n",
    "print('The largest price change between any two days is ${}'.format(max((abs(x) for x in AFX_2017_select['Diff_2Day_prior'] if x is not None))))       \n",
    "\n",
    "print('\\r')\n",
    "\n",
    "#OR using the numpy function np.diff()\n",
    "\n",
    "AFX_Close = AFX_2017_select['Close']\n",
    "AFX_Close = [i if i is not None else np.NaN for i in AFX_Close]\n",
    "\n",
    "AFX_2Day_Diff = np.diff(np.array(AFX_Close))\n",
    "print('The largest price change between any two days is ${}'.format(round(abs(max(AFX_2Day_Diff)),2)))"
   ]
  },
  {
   "cell_type": "code",
   "execution_count": 15,
   "metadata": {},
   "outputs": [
    {
     "name": "stdout",
     "output_type": "stream",
     "text": [
      "The mean daily trading volume during for 2017 is 89124.34\n",
      "\r\n",
      "The mean daily trading volume during for 2017 is 89124.34\n"
     ]
    }
   ],
   "source": [
    "#Q.6 What was the average daily trading volume during this year?\n",
    "AFX_Traded_Vol = np.array(AFX_2017_select['Traded Volume'])\n",
    "\n",
    "Traded_Vol_sorted = sorted(AFX_Traded_Vol)\n",
    "num = len(Traded_Vol_sorted)\n",
    "mean = sum(AFX_Traded_Vol)/num\n",
    "\n",
    "print('The mean daily trading volume during for 2017 is {:.2f}'.format(mean))\n",
    "\n",
    "print(\"\\r\")\n",
    "\n",
    "#OR using numpy mean function\n",
    "print('The mean daily trading volume during for 2017 is {:.2f}'.format(np.mean(AFX_Traded_Vol)))"
   ]
  },
  {
   "cell_type": "code",
   "execution_count": 16,
   "metadata": {},
   "outputs": [
    {
     "name": "stdout",
     "output_type": "stream",
     "text": [
      "The median daily trading volume during for 2017 is 76286.00\n",
      "\n",
      "The median daily trading volume during for 2017 is 76286.00\n"
     ]
    }
   ],
   "source": [
    "#Q.7 What was the median trading volume during this year.\n",
    "\n",
    "if num % 2 == 0:\n",
    "    median = (Traded_Vol_sorted[num//2] + Traded_Vol_sorted[num//2 -1]) / 2\n",
    "else:\n",
    "    median = Traded_Vol_sorted[num//2]\n",
    "\n",
    "print('The median daily trading volume during for 2017 is {:.2f}'.format(median))\n",
    "\n",
    "print(\"\\r\")\n",
    "\n",
    "#OR using numpy median function\n",
    "print('The median daily trading volume during for 2017 is {:.2f}'.format(np.median(AFX_Traded_Vol)))"
   ]
  },
  {
   "cell_type": "markdown",
   "metadata": {},
   "source": [
    "These are your tasks for this mini project:\n",
    "\n",
    "1. Collect data from the Franfurt Stock Exchange, for the ticker AFX_X, for the whole year 2017 (keep in mind that the date format is YYYY-MM-DD).\n",
    "2. Convert the returned JSON object into a Python dictionary.\n",
    "3. Calculate what the highest and lowest opening prices were for the stock in this period.\n",
    "4. What was the largest change in any one day (based on High and Low price)?\n",
    "5. What was the largest change between any two days (based on Closing Price)?\n",
    "6. What was the average daily trading volume during this year?\n",
    "7. (Optional) What was the median trading volume during this year. (Note: you may need to implement your own function for calculating the median.)"
   ]
  }
 ],
 "metadata": {
  "kernelspec": {
   "display_name": "Python 3",
   "language": "python",
   "name": "python3"
  },
  "language_info": {
   "codemirror_mode": {
    "name": "ipython",
    "version": 3
   },
   "file_extension": ".py",
   "mimetype": "text/x-python",
   "name": "python",
   "nbconvert_exporter": "python",
   "pygments_lexer": "ipython3",
   "version": "3.8.5"
  }
 },
 "nbformat": 4,
 "nbformat_minor": 4
}
